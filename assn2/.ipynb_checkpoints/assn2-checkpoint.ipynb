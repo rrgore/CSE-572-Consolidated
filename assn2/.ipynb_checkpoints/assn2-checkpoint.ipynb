{
 "cells": [
  {
   "cell_type": "markdown",
   "id": "2acc90fd",
   "metadata": {},
   "source": [
    "## CSE 572 - DM: Assignment 2\n",
    "#### Author: Rahul Gore"
   ]
  },
  {
   "cell_type": "code",
   "execution_count": 19,
   "id": "929543e9",
   "metadata": {},
   "outputs": [],
   "source": [
    "import numpy as np\n",
    "import pandas as pd\n",
    "import math\n",
    "\n",
    "INSULIN_FILE = 'InsulinAndMealIntake670GPatient3.xlsx'\n",
    "COL_Y = 'BWZ Carb Input (grams)'"
   ]
  },
  {
   "cell_type": "code",
   "execution_count": 37,
   "id": "a95928dd",
   "metadata": {
    "scrolled": true
   },
   "outputs": [],
   "source": [
    "insulinDf = pd.read_excel(INSULIN_FILE)\n",
    "# print(insulinDf.columns[24])\n",
    "\n",
    "# row1 = insulinDf[0:1]\n",
    "# print(row1[COL_Y])\n",
    "\n",
    "columns = ['Date', 'Time']\n",
    "dataList = []\n",
    "for _, row in insulinDf.iterrows():\n",
    "#     print(row[COL_Y])\n",
    "    carb = row[COL_Y]\n",
    "    if not math.isnan(carb) and carb != 0:\n",
    "#         print(row['Date'].date(), row['Time'])\n",
    "        dataList.append([row['Date'].date(), row['Time']])\n",
    "\n",
    "dataArray = np.asarray(dataList)\n",
    "# print(dataArray[0:10])"
   ]
  },
  {
   "cell_type": "code",
   "execution_count": null,
   "id": "d25f9f18",
   "metadata": {},
   "outputs": [],
   "source": []
  }
 ],
 "metadata": {
  "kernelspec": {
   "display_name": "Python 3 (ipykernel)",
   "language": "python",
   "name": "python3"
  },
  "language_info": {
   "codemirror_mode": {
    "name": "ipython",
    "version": 3
   },
   "file_extension": ".py",
   "mimetype": "text/x-python",
   "name": "python",
   "nbconvert_exporter": "python",
   "pygments_lexer": "ipython3",
   "version": "3.8.0"
  }
 },
 "nbformat": 4,
 "nbformat_minor": 5
}
