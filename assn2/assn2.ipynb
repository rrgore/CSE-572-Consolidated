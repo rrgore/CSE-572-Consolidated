{
 "cells": [
  {
   "cell_type": "markdown",
   "id": "2acc90fd",
   "metadata": {},
   "source": [
    "## CSE 572 - DM: Assignment 2\n",
    "#### Author: Rahul Gore"
   ]
  },
  {
   "cell_type": "code",
   "execution_count": 2,
   "id": "929543e9",
   "metadata": {},
   "outputs": [],
   "source": [
    "import numpy as np\n",
    "import pandas as pd\n",
    "import math\n",
    "import datetime as dt\n",
    "\n",
    "INSULIN_FILE = 'InsulinAndMealIntake670GPatient3.xlsx'\n",
    "COL_Y = 'BWZ Carb Input (grams)'"
   ]
  },
  {
   "cell_type": "code",
   "execution_count": 6,
   "id": "a95928dd",
   "metadata": {
    "scrolled": true
   },
   "outputs": [
    {
     "name": "stdout",
     "output_type": "stream",
     "text": [
      "[datetime.datetime(2017, 9, 5, 13, 14, 52)\n",
      " datetime.datetime(2017, 9, 5, 19, 32, 6)\n",
      " datetime.datetime(2017, 9, 5, 19, 32, 23)\n",
      " datetime.datetime(2017, 9, 6, 8, 48, 28)\n",
      " datetime.datetime(2017, 9, 6, 13, 22, 26)\n",
      " datetime.datetime(2017, 9, 6, 19, 27, 21)\n",
      " datetime.datetime(2017, 9, 7, 7, 38, 7)\n",
      " datetime.datetime(2017, 9, 7, 12, 54)\n",
      " datetime.datetime(2017, 9, 7, 19, 48, 45)\n",
      " datetime.datetime(2017, 9, 8, 8, 17, 54)]\n"
     ]
    }
   ],
   "source": [
    "insulinDf = pd.read_excel(INSULIN_FILE)\n",
    "\n",
    "columns = ['Date', 'Time']\n",
    "timeStampList = []\n",
    "for _, row in insulinDf.iterrows():\n",
    "    carb = row[COL_Y]\n",
    "    if not math.isnan(carb) and carb != 0:\n",
    "        timeStampList.append(dt.datetime.combine(row['Date'].date(), row['Time']))\n",
    "\n",
    "timeStampList.reverse()\n",
    "timeStampArray = np.asarray(timeStampList)\n",
    "print(timeStampArray[0:10])"
   ]
  },
  {
   "cell_type": "code",
   "execution_count": null,
   "id": "d25f9f18",
   "metadata": {},
   "outputs": [],
   "source": []
  }
 ],
 "metadata": {
  "kernelspec": {
   "display_name": "Python 3 (ipykernel)",
   "language": "python",
   "name": "python3"
  },
  "language_info": {
   "codemirror_mode": {
    "name": "ipython",
    "version": 3
   },
   "file_extension": ".py",
   "mimetype": "text/x-python",
   "name": "python",
   "nbconvert_exporter": "python",
   "pygments_lexer": "ipython3",
   "version": "3.8.0"
  }
 },
 "nbformat": 4,
 "nbformat_minor": 5
}
