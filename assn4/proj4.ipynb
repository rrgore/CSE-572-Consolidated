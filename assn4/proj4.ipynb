{
 "cells": [
  {
   "cell_type": "code",
   "execution_count": 1,
   "id": "7dd0e1b1",
   "metadata": {},
   "outputs": [],
   "source": [
    "import datetime\n",
    "import numpy as np\n",
    "from functools import cmp_to_key\n",
    "from pprint import pprint\n",
    "import pandas as pd\n",
    "from mlxtend.preprocessing import TransactionEncoder\n",
    "from mlxtend.frequent_patterns import apriori, association_rules"
   ]
  },
  {
   "cell_type": "code",
   "execution_count": 2,
   "id": "f7a93772",
   "metadata": {},
   "outputs": [],
   "source": [
    "def readFile(fname):\n",
    "    data = None\n",
    "    with open(fname, 'r') as f:\n",
    "        data = f.readlines()[1:]\n",
    "        data = [tup.split(',') for tup in data]\n",
    "    return data\n",
    "\n",
    "def convInt(str):\n",
    "    if str == '' or str == 'nan':\n",
    "        return 0\n",
    "    else:\n",
    "        return int(str)\n",
    "    \n",
    "def compare(x, y):\n",
    "    return x[1] > y[1]\n",
    "\n",
    "def writeFile(fname, data):\n",
    "    with open(fname, 'w') as f:\n",
    "        for line in data:\n",
    "            f.write(line)"
   ]
  },
  {
   "cell_type": "code",
   "execution_count": 4,
   "id": "7e9b4dc1",
   "metadata": {},
   "outputs": [],
   "source": [
    "ins_data = readFile('InsulinData.csv')\n",
    "insulin_data = []\n",
    "for r in ins_data:\n",
    "    carb = r[24]\n",
    "    bolus = r[19]\n",
    "    date = datetime.datetime.strptime(r[1], \"%m/%d/%Y\")\n",
    "    time = datetime.datetime.strptime(r[2], \"%H:%M:%S\").time()\n",
    "    if carb != '' and carb != '0':\n",
    "        insulin_data.append([int(float(bolus)), datetime.datetime.combine(date, time)])\n",
    "insulin_data.reverse()"
   ]
  },
  {
   "cell_type": "code",
   "execution_count": 5,
   "id": "ccca9573",
   "metadata": {},
   "outputs": [],
   "source": [
    "valid_insulin_data = []\n",
    "i = 0\n",
    "while i < len(insulin_data)-1:\n",
    "    diff = insulin_data[i+1][1] - insulin_data[i][1]\n",
    "    if diff < datetime.timedelta(minutes=30):\n",
    "        i += 2\n",
    "        continue\n",
    "    elif diff >= datetime.timedelta(hours=2):\n",
    "        valid_insulin_data.append(insulin_data[i])\n",
    "    i += 1"
   ]
  },
  {
   "cell_type": "code",
   "execution_count": 7,
   "id": "ebf3bd30",
   "metadata": {},
   "outputs": [],
   "source": [
    "meal_windows = []\n",
    "for insulin_tuple in valid_insulin_data:\n",
    "    meal_windows.append([insulin_tuple[1]-datetime.timedelta(minutes=30), insulin_tuple[1]+datetime.timedelta(hours=2)])\n",
    "    \n",
    "cgm_data = readFile('CGMData.csv')\n",
    "meal_dataset = []\n",
    "mpt = len(meal_windows)-1\n",
    "i = 0\n",
    "while i < len(cgm_data) and mpt >= 0:\n",
    "    date = datetime.datetime.strptime(cgm_data[i][1], \"%m/%d/%Y\")\n",
    "    time = datetime.datetime.strptime(cgm_data[i][2], \"%H:%M:%S\").time()\n",
    "    ts = datetime.datetime.combine(date, time)\n",
    "    if ts < meal_windows[mpt][1]:\n",
    "        meal = [valid_insulin_data[mpt][0]]\n",
    "        for _ in range(30):\n",
    "            if i >= len(cgm_data):\n",
    "                break\n",
    "            meal.append(cgm_data[i][30])\n",
    "            i += 1\n",
    "        meal_dataset.append(meal)\n",
    "        mpt -= 1\n",
    "    else:\n",
    "        i += 1"
   ]
  },
  {
   "cell_type": "code",
   "execution_count": 9,
   "id": "d157d06a",
   "metadata": {},
   "outputs": [
    {
     "data": {
      "text/plain": [
       "[8,\n",
       " '177',\n",
       " '194',\n",
       " '200',\n",
       " '201',\n",
       " '189',\n",
       " '162',\n",
       " '166',\n",
       " '173',\n",
       " '176',\n",
       " '169',\n",
       " '167',\n",
       " '166',\n",
       " '168',\n",
       " '180',\n",
       " '182',\n",
       " '178',\n",
       " '171',\n",
       " '160',\n",
       " '145',\n",
       " '138',\n",
       " '132',\n",
       " '120',\n",
       " '127',\n",
       " '129',\n",
       " '132',\n",
       " '123',\n",
       " '104',\n",
       " '100',\n",
       " '107',\n",
       " '106']"
      ]
     },
     "execution_count": 9,
     "metadata": {},
     "output_type": "execute_result"
    }
   ],
   "source": [
    "meal_dataset[1]"
   ]
  },
  {
   "cell_type": "code",
   "execution_count": 10,
   "id": "ecf8263d",
   "metadata": {},
   "outputs": [],
   "source": [
    "valid_meal_dataset = []\n",
    "for m in meal_dataset:\n",
    "    if '' not in m:\n",
    "        valid_meal_dataset.append(m)"
   ]
  },
  {
   "cell_type": "code",
   "execution_count": 12,
   "id": "982b3861",
   "metadata": {
    "collapsed": true
   },
   "outputs": [
    {
     "data": {
      "text/plain": [
       "[8,\n",
       " '177',\n",
       " '194',\n",
       " '200',\n",
       " '201',\n",
       " '189',\n",
       " '162',\n",
       " '166',\n",
       " '173',\n",
       " '176',\n",
       " '169',\n",
       " '167',\n",
       " '166',\n",
       " '168',\n",
       " '180',\n",
       " '182',\n",
       " '178',\n",
       " '171',\n",
       " '160',\n",
       " '145',\n",
       " '138',\n",
       " '132',\n",
       " '120',\n",
       " '127',\n",
       " '129',\n",
       " '132',\n",
       " '123',\n",
       " '104',\n",
       " '100',\n",
       " '107',\n",
       " '106']"
      ]
     },
     "execution_count": 12,
     "metadata": {},
     "output_type": "execute_result"
    }
   ],
   "source": [
    "valid_meal_dataset[0]"
   ]
  },
  {
   "cell_type": "code",
   "execution_count": 21,
   "id": "2c58e2d5",
   "metadata": {},
   "outputs": [
    {
     "data": {
      "text/plain": [
       "[8, 3, 0, 5, 9, 1, 5, 3, 1, 2]"
      ]
     },
     "execution_count": 21,
     "metadata": {},
     "output_type": "execute_result"
    }
   ],
   "source": [
    "bolus_data = [m[0] for m in valid_meal_dataset]\n",
    "meal_dataset = [m[1:] for m in valid_meal_dataset]\n",
    "bolus_data[:10]"
   ]
  },
  {
   "cell_type": "code",
   "execution_count": 22,
   "id": "8ab9ee4d",
   "metadata": {},
   "outputs": [],
   "source": [
    "meal_dataset = [[convInt(cell) for cell in row] for row in meal_dataset]\n",
    "meal_dataset = np.array(meal_dataset)\n",
    "\n",
    "cgm_min = np.min(meal_dataset)\n",
    "cgm_max = np.max(meal_dataset)\n",
    "\n",
    "n_bins = int((cgm_max - cgm_min)/20)+1\n",
    "bin_list = [[] for _ in range(n_bins)]\n",
    "i = 0\n",
    "for row in meal_dataset:\n",
    "    for cell in row:\n",
    "        i = int((cell - cgm_min)/20)\n",
    "        bin_list[i].append(cell)"
   ]
  },
  {
   "cell_type": "code",
   "execution_count": 23,
   "id": "a226d36c",
   "metadata": {},
   "outputs": [
    {
     "name": "stdout",
     "output_type": "stream",
     "text": [
      "433\n",
      "433\n"
     ]
    }
   ],
   "source": [
    "b_max_arr = [max(a) for a in meal_dataset]\n",
    "b_max_arr = [int((tup - cgm_min)/20) for tup in b_max_arr]\n",
    "print(len(b_max_arr))\n",
    "\n",
    "b_meal_arr = [a[6] for a in meal_dataset]\n",
    "b_meal_arr = [int((tup - cgm_min)/20) for tup in b_meal_arr]\n",
    "print(len(b_meal_arr))"
   ]
  },
  {
   "cell_type": "code",
   "execution_count": 12,
   "id": "49e27405",
   "metadata": {},
   "outputs": [
    {
     "name": "stdout",
     "output_type": "stream",
     "text": [
      "560\n"
     ]
    }
   ],
   "source": [
    "# bolus_data = []\n",
    "# i = len(valid_insulin_data) - 1\n",
    "# for r in ins_data:\n",
    "#     date = datetime.datetime.strptime(r[1], \"%m/%d/%Y\")\n",
    "#     time = datetime.datetime.strptime(r[2], \"%H:%M:%S\").time()\n",
    "#     stamp = datetime.datetime.combine(date, time)\n",
    "#     if valid_insulin_data[i] == stamp and r[24] != '' and r[24] != '0':\n",
    "#         bolus_data.append(int(float(r[19])))\n",
    "#         i -= 1\n",
    "# print(len(bolus_data))"
   ]
  },
  {
   "cell_type": "code",
   "execution_count": 27,
   "id": "a127ab8b",
   "metadata": {},
   "outputs": [
    {
     "data": {
      "text/plain": [
       "['max_8', 'meal_6', 'ins_8']"
      ]
     },
     "execution_count": 27,
     "metadata": {},
     "output_type": "execute_result"
    }
   ],
   "source": [
    "COUNT = len(bolus_data)\n",
    "dataset = []\n",
    "for i in range(COUNT):\n",
    "    row = [\"max_\"+str(b_max_arr[i]), \"meal_\"+str(b_meal_arr[i]), \"ins_\"+str(bolus_data[i])]\n",
    "    dataset.append(row)\n",
    "dataset[0]"
   ]
  },
  {
   "cell_type": "code",
   "execution_count": 28,
   "id": "2e28420e",
   "metadata": {},
   "outputs": [
    {
     "name": "stdout",
     "output_type": "stream",
     "text": [
      "     ins_0  ins_1  ins_10  ins_11  ins_12  ins_13  ins_2  ins_3  ins_4  ins_5  \\\n",
      "0    False  False   False   False   False   False  False  False  False  False   \n",
      "1    False  False   False   False   False   False  False   True  False  False   \n",
      "2     True  False   False   False   False   False  False  False  False  False   \n",
      "3    False  False   False   False   False   False  False  False  False   True   \n",
      "4    False  False   False   False   False   False  False  False  False  False   \n",
      "..     ...    ...     ...     ...     ...     ...    ...    ...    ...    ...   \n",
      "428  False  False   False   False   False   False  False  False  False   True   \n",
      "429  False  False   False   False   False   False  False  False  False   True   \n",
      "430  False  False   False   False   False   False   True  False  False  False   \n",
      "431  False  False   False   False   False   False  False  False  False  False   \n",
      "432  False  False   False   False   False   False  False  False  False  False   \n",
      "\n",
      "     ...  meal_15  meal_16  meal_2  meal_3  meal_4  meal_5  meal_6  meal_7  \\\n",
      "0    ...    False    False   False   False   False   False    True   False   \n",
      "1    ...    False    False   False   False   False   False   False    True   \n",
      "2    ...    False    False   False   False   False   False   False   False   \n",
      "3    ...    False    False   False   False   False   False    True   False   \n",
      "4    ...    False    False   False   False   False   False   False   False   \n",
      "..   ...      ...      ...     ...     ...     ...     ...     ...     ...   \n",
      "428  ...    False    False   False   False   False    True   False   False   \n",
      "429  ...    False    False   False   False   False   False   False    True   \n",
      "430  ...    False    False   False   False   False   False   False   False   \n",
      "431  ...    False    False   False   False   False   False   False   False   \n",
      "432  ...    False    False   False   False   False   False   False   False   \n",
      "\n",
      "     meal_8  meal_9  \n",
      "0     False   False  \n",
      "1     False   False  \n",
      "2      True   False  \n",
      "3     False   False  \n",
      "4     False    True  \n",
      "..      ...     ...  \n",
      "428   False   False  \n",
      "429   False   False  \n",
      "430    True   False  \n",
      "431   False   False  \n",
      "432   False   False  \n",
      "\n",
      "[433 rows x 47 columns]\n"
     ]
    }
   ],
   "source": [
    "te = TransactionEncoder()\n",
    "te_ary = te.fit(dataset).transform(dataset)\n",
    "df = pd.DataFrame(te_ary, columns=te.columns_)\n",
    "print(df)"
   ]
  },
  {
   "cell_type": "code",
   "execution_count": 42,
   "id": "4d80c43b",
   "metadata": {},
   "outputs": [
    {
     "data": {
      "text/html": [
       "<div>\n",
       "<style scoped>\n",
       "    .dataframe tbody tr th:only-of-type {\n",
       "        vertical-align: middle;\n",
       "    }\n",
       "\n",
       "    .dataframe tbody tr th {\n",
       "        vertical-align: top;\n",
       "    }\n",
       "\n",
       "    .dataframe thead th {\n",
       "        text-align: right;\n",
       "    }\n",
       "</style>\n",
       "<table border=\"1\" class=\"dataframe\">\n",
       "  <thead>\n",
       "    <tr style=\"text-align: right;\">\n",
       "      <th></th>\n",
       "      <th>itemsets</th>\n",
       "      <th>support</th>\n",
       "    </tr>\n",
       "  </thead>\n",
       "  <tbody>\n",
       "    <tr>\n",
       "      <th>290</th>\n",
       "      <td>(meal_5, ins_1, max_7)</td>\n",
       "      <td>0.013857</td>\n",
       "    </tr>\n",
       "    <tr>\n",
       "      <th>299</th>\n",
       "      <td>(max_6, meal_5, ins_2)</td>\n",
       "      <td>0.013857</td>\n",
       "    </tr>\n",
       "  </tbody>\n",
       "</table>\n",
       "</div>"
      ],
      "text/plain": [
       "                   itemsets   support\n",
       "290  (meal_5, ins_1, max_7)  0.013857\n",
       "299  (max_6, meal_5, ins_2)  0.013857"
      ]
     },
     "execution_count": 42,
     "metadata": {},
     "output_type": "execute_result"
    }
   ],
   "source": [
    "frequent_itemsets = apriori(df, min_support=0.004, use_colnames=True)\n",
    "f_items = frequent_itemsets\n",
    "frequent_itemsets['length'] = frequent_itemsets['itemsets'].apply(lambda x: len(x))\n",
    "frequent_itemsets = frequent_itemsets[(frequent_itemsets['length'] == 3)]\n",
    "frequent_itemsets = frequent_itemsets[frequent_itemsets['support']==frequent_itemsets['support'].max()]\n",
    "frequent_itemsets[['itemsets','support']]"
   ]
  },
  {
   "cell_type": "code",
   "execution_count": 43,
   "id": "efb34b89",
   "metadata": {},
   "outputs": [],
   "source": [
    "freq_data = []\n",
    "for i, r in frequent_itemsets.iterrows():\n",
    "    r_str = ''\n",
    "    for s in r['itemsets']:\n",
    "        r_str += s[-1]\n",
    "        r_str += ','\n",
    "    r_str += str(r['support'])\n",
    "    r_str += '\\n'\n",
    "    freq_data.append(r_str)\n",
    "writeFile('Result_1.csv', freq_data)"
   ]
  },
  {
   "cell_type": "code",
   "execution_count": 44,
   "id": "2fdf6167",
   "metadata": {},
   "outputs": [
    {
     "data": {
      "text/html": [
       "<div>\n",
       "<style scoped>\n",
       "    .dataframe tbody tr th:only-of-type {\n",
       "        vertical-align: middle;\n",
       "    }\n",
       "\n",
       "    .dataframe tbody tr th {\n",
       "        vertical-align: top;\n",
       "    }\n",
       "\n",
       "    .dataframe thead th {\n",
       "        text-align: right;\n",
       "    }\n",
       "</style>\n",
       "<table border=\"1\" class=\"dataframe\">\n",
       "  <thead>\n",
       "    <tr style=\"text-align: right;\">\n",
       "      <th></th>\n",
       "      <th>antecedents</th>\n",
       "      <th>consequents</th>\n",
       "      <th>confidence</th>\n",
       "    </tr>\n",
       "  </thead>\n",
       "  <tbody>\n",
       "    <tr>\n",
       "      <th>275</th>\n",
       "      <td>(max_5, meal_4)</td>\n",
       "      <td>(ins_0)</td>\n",
       "      <td>0.272727</td>\n",
       "    </tr>\n",
       "    <tr>\n",
       "      <th>276</th>\n",
       "      <td>(max_5, ins_0)</td>\n",
       "      <td>(meal_4)</td>\n",
       "      <td>0.750000</td>\n",
       "    </tr>\n",
       "    <tr>\n",
       "      <th>277</th>\n",
       "      <td>(ins_0, meal_4)</td>\n",
       "      <td>(max_5)</td>\n",
       "      <td>0.600000</td>\n",
       "    </tr>\n",
       "    <tr>\n",
       "      <th>279</th>\n",
       "      <td>(max_6, meal_3)</td>\n",
       "      <td>(ins_0)</td>\n",
       "      <td>0.666667</td>\n",
       "    </tr>\n",
       "    <tr>\n",
       "      <th>280</th>\n",
       "      <td>(max_6, ins_0)</td>\n",
       "      <td>(meal_3)</td>\n",
       "      <td>0.500000</td>\n",
       "    </tr>\n",
       "    <tr>\n",
       "      <th>...</th>\n",
       "      <td>...</td>\n",
       "      <td>...</td>\n",
       "      <td>...</td>\n",
       "    </tr>\n",
       "    <tr>\n",
       "      <th>518</th>\n",
       "      <td>(max_9, meal_6)</td>\n",
       "      <td>(ins_8)</td>\n",
       "      <td>0.200000</td>\n",
       "    </tr>\n",
       "    <tr>\n",
       "      <th>519</th>\n",
       "      <td>(ins_8, meal_6)</td>\n",
       "      <td>(max_9)</td>\n",
       "      <td>0.500000</td>\n",
       "    </tr>\n",
       "    <tr>\n",
       "      <th>520</th>\n",
       "      <td>(meal_9, ins_9)</td>\n",
       "      <td>(max_10)</td>\n",
       "      <td>0.500000</td>\n",
       "    </tr>\n",
       "    <tr>\n",
       "      <th>521</th>\n",
       "      <td>(meal_9, max_10)</td>\n",
       "      <td>(ins_9)</td>\n",
       "      <td>0.181818</td>\n",
       "    </tr>\n",
       "    <tr>\n",
       "      <th>522</th>\n",
       "      <td>(ins_9, max_10)</td>\n",
       "      <td>(meal_9)</td>\n",
       "      <td>0.666667</td>\n",
       "    </tr>\n",
       "  </tbody>\n",
       "</table>\n",
       "<p>224 rows × 3 columns</p>\n",
       "</div>"
      ],
      "text/plain": [
       "          antecedents consequents  confidence\n",
       "275   (max_5, meal_4)     (ins_0)    0.272727\n",
       "276    (max_5, ins_0)    (meal_4)    0.750000\n",
       "277   (ins_0, meal_4)     (max_5)    0.600000\n",
       "279   (max_6, meal_3)     (ins_0)    0.666667\n",
       "280    (max_6, ins_0)    (meal_3)    0.500000\n",
       "..                ...         ...         ...\n",
       "518   (max_9, meal_6)     (ins_8)    0.200000\n",
       "519   (ins_8, meal_6)     (max_9)    0.500000\n",
       "520   (meal_9, ins_9)    (max_10)    0.500000\n",
       "521  (meal_9, max_10)     (ins_9)    0.181818\n",
       "522   (ins_9, max_10)    (meal_9)    0.666667\n",
       "\n",
       "[224 rows x 3 columns]"
      ]
     },
     "execution_count": 44,
     "metadata": {},
     "output_type": "execute_result"
    }
   ],
   "source": [
    "rules = association_rules(f_items, metric=\"confidence\", min_threshold=0.1)\n",
    "rules['ante_len'] = rules['antecedents'].apply(lambda x: len(x))\n",
    "rules['cons_len'] = rules['consequents'].apply(lambda x: len(x))\n",
    "rules = rules[(rules['ante_len'] == 2) & (rules['cons_len'] == 1)]\n",
    "rules[['antecedents', 'consequents', 'confidence']]"
   ]
  },
  {
   "cell_type": "code",
   "execution_count": 45,
   "id": "97096a77",
   "metadata": {},
   "outputs": [
    {
     "data": {
      "text/html": [
       "<div>\n",
       "<style scoped>\n",
       "    .dataframe tbody tr th:only-of-type {\n",
       "        vertical-align: middle;\n",
       "    }\n",
       "\n",
       "    .dataframe tbody tr th {\n",
       "        vertical-align: top;\n",
       "    }\n",
       "\n",
       "    .dataframe thead th {\n",
       "        text-align: right;\n",
       "    }\n",
       "</style>\n",
       "<table border=\"1\" class=\"dataframe\">\n",
       "  <thead>\n",
       "    <tr style=\"text-align: right;\">\n",
       "      <th></th>\n",
       "      <th>antecedents</th>\n",
       "      <th>consequents</th>\n",
       "      <th>confidence</th>\n",
       "    </tr>\n",
       "  </thead>\n",
       "  <tbody>\n",
       "    <tr>\n",
       "      <th>279</th>\n",
       "      <td>(max_6, meal_3)</td>\n",
       "      <td>(ins_0)</td>\n",
       "      <td>0.666667</td>\n",
       "    </tr>\n",
       "    <tr>\n",
       "      <th>507</th>\n",
       "      <td>(meal_2, max_3)</td>\n",
       "      <td>(ins_7)</td>\n",
       "      <td>0.666667</td>\n",
       "    </tr>\n",
       "  </tbody>\n",
       "</table>\n",
       "</div>"
      ],
      "text/plain": [
       "         antecedents consequents  confidence\n",
       "279  (max_6, meal_3)     (ins_0)    0.666667\n",
       "507  (meal_2, max_3)     (ins_7)    0.666667"
      ]
     },
     "execution_count": 45,
     "metadata": {},
     "output_type": "execute_result"
    }
   ],
   "source": [
    "def func(row):\n",
    "    for e in row['antecedents']:\n",
    "        if e[:-1] != 'max_' and e[:-1] != 'meal_':\n",
    "            return False\n",
    "    return True\n",
    "rules = rules[rules.apply(func, axis=1)]\n",
    "rules_1 = rules[rules['confidence']==rules['confidence'].max()]\n",
    "rules_1[['antecedents','consequents','confidence']]"
   ]
  },
  {
   "cell_type": "code",
   "execution_count": 46,
   "id": "b39bda9c",
   "metadata": {},
   "outputs": [],
   "source": [
    "rules_1_data = []\n",
    "for i, r in rules_1.iterrows():\n",
    "    r_str = ''\n",
    "    for s in r['antecedents']:\n",
    "        r_str += s[-1]\n",
    "        r_str += ','\n",
    "    for s in r['consequents']:\n",
    "        r_str += s[-1]\n",
    "        r_str += ','\n",
    "    r_str += str(r['confidence'])\n",
    "    r_str += '\\n'\n",
    "    rules_1_data.append(r_str)\n",
    "writeFile('Result_2.csv', rules_1_data)"
   ]
  },
  {
   "cell_type": "code",
   "execution_count": 47,
   "id": "afea6945",
   "metadata": {},
   "outputs": [
    {
     "data": {
      "text/html": [
       "<div>\n",
       "<style scoped>\n",
       "    .dataframe tbody tr th:only-of-type {\n",
       "        vertical-align: middle;\n",
       "    }\n",
       "\n",
       "    .dataframe tbody tr th {\n",
       "        vertical-align: top;\n",
       "    }\n",
       "\n",
       "    .dataframe thead th {\n",
       "        text-align: right;\n",
       "    }\n",
       "</style>\n",
       "<table border=\"1\" class=\"dataframe\">\n",
       "  <thead>\n",
       "    <tr style=\"text-align: right;\">\n",
       "      <th></th>\n",
       "      <th>antecedents</th>\n",
       "      <th>consequents</th>\n",
       "      <th>confidence</th>\n",
       "    </tr>\n",
       "  </thead>\n",
       "  <tbody>\n",
       "    <tr>\n",
       "      <th>283</th>\n",
       "      <td>(max_6, meal_4)</td>\n",
       "      <td>(ins_0)</td>\n",
       "      <td>0.111111</td>\n",
       "    </tr>\n",
       "    <tr>\n",
       "      <th>381</th>\n",
       "      <td>(max_6, meal_4)</td>\n",
       "      <td>(ins_3)</td>\n",
       "      <td>0.111111</td>\n",
       "    </tr>\n",
       "    <tr>\n",
       "      <th>429</th>\n",
       "      <td>(meal_6, max_7)</td>\n",
       "      <td>(ins_4)</td>\n",
       "      <td>0.111111</td>\n",
       "    </tr>\n",
       "    <tr>\n",
       "      <th>465</th>\n",
       "      <td>(meal_6, max_7)</td>\n",
       "      <td>(ins_5)</td>\n",
       "      <td>0.111111</td>\n",
       "    </tr>\n",
       "    <tr>\n",
       "      <th>510</th>\n",
       "      <td>(max_6, meal_4)</td>\n",
       "      <td>(ins_7)</td>\n",
       "      <td>0.111111</td>\n",
       "    </tr>\n",
       "    <tr>\n",
       "      <th>514</th>\n",
       "      <td>(meal_6, max_7)</td>\n",
       "      <td>(ins_7)</td>\n",
       "      <td>0.111111</td>\n",
       "    </tr>\n",
       "    <tr>\n",
       "      <th>309</th>\n",
       "      <td>(max_8, meal_7)</td>\n",
       "      <td>(ins_1)</td>\n",
       "      <td>0.117647</td>\n",
       "    </tr>\n",
       "    <tr>\n",
       "      <th>390</th>\n",
       "      <td>(max_8, meal_7)</td>\n",
       "      <td>(ins_3)</td>\n",
       "      <td>0.117647</td>\n",
       "    </tr>\n",
       "    <tr>\n",
       "      <th>438</th>\n",
       "      <td>(max_8, meal_7)</td>\n",
       "      <td>(ins_4)</td>\n",
       "      <td>0.117647</td>\n",
       "    </tr>\n",
       "    <tr>\n",
       "      <th>357</th>\n",
       "      <td>(meal_8, max_9)</td>\n",
       "      <td>(ins_2)</td>\n",
       "      <td>0.125000</td>\n",
       "    </tr>\n",
       "    <tr>\n",
       "      <th>401</th>\n",
       "      <td>(meal_8, max_9)</td>\n",
       "      <td>(ins_3)</td>\n",
       "      <td>0.125000</td>\n",
       "    </tr>\n",
       "  </tbody>\n",
       "</table>\n",
       "</div>"
      ],
      "text/plain": [
       "         antecedents consequents  confidence\n",
       "283  (max_6, meal_4)     (ins_0)    0.111111\n",
       "381  (max_6, meal_4)     (ins_3)    0.111111\n",
       "429  (meal_6, max_7)     (ins_4)    0.111111\n",
       "465  (meal_6, max_7)     (ins_5)    0.111111\n",
       "510  (max_6, meal_4)     (ins_7)    0.111111\n",
       "514  (meal_6, max_7)     (ins_7)    0.111111\n",
       "309  (max_8, meal_7)     (ins_1)    0.117647\n",
       "390  (max_8, meal_7)     (ins_3)    0.117647\n",
       "438  (max_8, meal_7)     (ins_4)    0.117647\n",
       "357  (meal_8, max_9)     (ins_2)    0.125000\n",
       "401  (meal_8, max_9)     (ins_3)    0.125000"
      ]
     },
     "execution_count": 47,
     "metadata": {},
     "output_type": "execute_result"
    }
   ],
   "source": [
    "rules_2 = rules[rules['confidence']<0.15]\n",
    "rules_2 = rules_2.sort_values(by='confidence')\n",
    "rules_2[['antecedents','consequents','confidence']]"
   ]
  },
  {
   "cell_type": "code",
   "execution_count": 48,
   "id": "aaca7864",
   "metadata": {},
   "outputs": [],
   "source": [
    "rules_2_data = []\n",
    "for i, r in rules_2.iterrows():\n",
    "    r_str = ''\n",
    "    for s in r['antecedents']:\n",
    "        r_str += s[-1]\n",
    "        r_str += ','\n",
    "    for s in r['consequents']:\n",
    "        r_str += s[-1]\n",
    "        r_str += ','\n",
    "    r_str += str(r['confidence'])\n",
    "    r_str += '\\n'\n",
    "    rules_2_data.append(r_str)\n",
    "writeFile('Result_3.csv', rules_2_data)"
   ]
  },
  {
   "cell_type": "code",
   "execution_count": null,
   "id": "23a56e2e",
   "metadata": {},
   "outputs": [],
   "source": []
  }
 ],
 "metadata": {
  "kernelspec": {
   "display_name": "Python 3 (ipykernel)",
   "language": "python",
   "name": "python3"
  },
  "language_info": {
   "codemirror_mode": {
    "name": "ipython",
    "version": 3
   },
   "file_extension": ".py",
   "mimetype": "text/x-python",
   "name": "python",
   "nbconvert_exporter": "python",
   "pygments_lexer": "ipython3",
   "version": "3.9.1"
  }
 },
 "nbformat": 4,
 "nbformat_minor": 5
}
