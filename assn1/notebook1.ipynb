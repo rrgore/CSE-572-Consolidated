{
 "cells": [
  {
   "cell_type": "markdown",
   "id": "ece0a7b0",
   "metadata": {},
   "source": [
    "# Assignment 1"
   ]
  },
  {
   "cell_type": "markdown",
   "id": "c959b2b9",
   "metadata": {},
   "source": [
    "Extracting Time Series Properties of Glucose Levels in Artificial Pancreas"
   ]
  },
  {
   "cell_type": "code",
   "execution_count": 12,
   "id": "75b777a0",
   "metadata": {},
   "outputs": [],
   "source": [
    "'''\n",
    "Imports\n",
    "'''\n",
    "from datetime import datetime, time"
   ]
  },
  {
   "cell_type": "code",
   "execution_count": 13,
   "id": "3562a37e",
   "metadata": {},
   "outputs": [],
   "source": [
    "'''\n",
    "Parse the csv file and find earliest auto switch\n",
    "'''\n",
    "autoDate = ''\n",
    "with open('InsulinData.csv', 'r') as f:    \n",
    "    i = 0\n",
    "    for line in f:\n",
    "        i += 1\n",
    "        if i == 1:\n",
    "            continue\n",
    "            \n",
    "        arr = line.split(\",\")        \n",
    "        if arr[16] == 'AUTO MODE ACTIVE PLGM OFF':\n",
    "            autoDate = arr[1]\n",
    "\n",
    "# print(autoDate)"
   ]
  },
  {
   "cell_type": "code",
   "execution_count": 14,
   "id": "82cf133f",
   "metadata": {},
   "outputs": [],
   "source": [
    "'''\n",
    "Collect time stamp + reading data\n",
    "'''\n",
    "timeReadingDict = {}\n",
    "with open('CGMData.csv', 'r') as f:\n",
    "    '''\n",
    "    Using prev value if reading is missing\n",
    "    '''\n",
    "#     prev = 130\n",
    "    i = 0\n",
    "    for line in f:\n",
    "        # skip headers\n",
    "        i += 1\n",
    "        if i == 1:\n",
    "            continue\n",
    "            \n",
    "        arr = line.split(\",\")\n",
    "        dateTime = \"{0}-{1}\".format(arr[1], arr[2])\n",
    "        reading = 0\n",
    "        if arr[30] == '':\n",
    "#             reading = prev\n",
    "            continue\n",
    "        else:\n",
    "            reading = int(arr[30])\n",
    "#             prev = reading\n",
    "            \n",
    "        timeReadingDict[dateTime] = reading\n",
    "        \n",
    "# print(timeReadingDict)"
   ]
  },
  {
   "cell_type": "code",
   "execution_count": 15,
   "id": "9292da1d",
   "metadata": {},
   "outputs": [
    {
     "name": "stdout",
     "output_type": "stream",
     "text": [
      "285\n"
     ]
    }
   ],
   "source": [
    "''' \n",
    "Collect readings by date \n",
    "'''\n",
    "\n",
    "dateReadingListDict = {}\n",
    "\n",
    "for time in timeReadingDict:\n",
    "    date, clock = time.split('-')\n",
    "    if date not in dateReadingListDict:\n",
    "        dateReadingListDict[date] = {}\n",
    "    dateReadingListDict[date][clock] = timeReadingDict[time]\n",
    "\n",
    "'''\n",
    "Splitting dates into auto and manual\n",
    "'''\n",
    "\n",
    "autoDatesReadingListDict = {}\n",
    "manDatesReadingListDict = {}\n",
    "\n",
    "switchDate = datetime.strptime(autoDate, \"%m/%d/%Y\")\n",
    "for date in dateReadingListDict:\n",
    "    curr = datetime.strptime(date, \"%m/%d/%Y\")\n",
    "    if curr >= switchDate:\n",
    "        autoDatesReadingListDict[date] = dateReadingListDict[date]\n",
    "    if curr <= switchDate:\n",
    "        manDatesReadingListDict[date] = dateReadingListDict[date]\n",
    "\n",
    "# print(len(dateReadingListDict['2/10/2018']))"
   ]
  },
  {
   "cell_type": "code",
   "execution_count": 16,
   "id": "b4954ecc",
   "metadata": {},
   "outputs": [
    {
     "name": "stdout",
     "output_type": "stream",
     "text": [
      "{'23:55:30': 77, '23:50:30': 79, '23:45:30': 79, '23:40:30': 73, '23:35:30': 69, '23:30:30': 67, '23:25:30': 68, '23:20:30': 70, '23:15:30': 67, '23:10:30': 66, '23:05:30': 65, '23:00:30': 66, '22:55:30': 66, '22:50:30': 63, '22:45:30': 62, '22:40:30': 61, '22:35:30': 59, '22:30:30': 60, '22:25:30': 71, '22:20:30': 76, '22:15:30': 78, '22:10:30': 80, '22:05:30': 83, '22:00:30': 87, '21:55:30': 89, '21:50:30': 95, '21:45:30': 106, '21:40:30': 114, '21:35:30': 136, '21:30:30': 155, '21:25:30': 163, '21:20:30': 169, '21:15:30': 162, '21:10:30': 158, '21:05:30': 153, '21:00:30': 146, '20:55:30': 140, '20:50:30': 127, '20:45:30': 116, '20:40:30': 110, '20:35:30': 106, '20:30:30': 108, '20:25:30': 115, '20:20:30': 121, '20:15:30': 128, '20:10:30': 132, '20:05:30': 133, '20:00:30': 126, '19:55:30': 100, '19:50:30': 82, '19:45:30': 70, '19:40:30': 65, '19:35:30': 60, '19:30:30': 59, '19:25:30': 59, '19:20:30': 61, '19:15:30': 60, '19:10:30': 63, '19:05:30': 65, '19:00:30': 64, '18:55:30': 61, '18:50:30': 59, '18:45:30': 56, '18:40:30': 67, '18:35:30': 83, '18:30:30': 90, '18:25:30': 89, '18:20:30': 101, '18:15:30': 106, '18:10:27': 118, '18:05:27': 129, '18:00:27': 142, '17:55:27': 150, '17:50:27': 160, '17:45:27': 164, '17:40:27': 169, '17:35:27': 179, '17:30:27': 195, '17:25:27': 207, '17:20:27': 218, '17:15:27': 229, '17:10:27': 236, '17:05:27': 241, '17:00:27': 244, '16:55:27': 239, '16:50:27': 246, '16:45:27': 242, '16:40:27': 232, '16:35:27': 227, '16:30:27': 226, '16:25:27': 232, '16:20:27': 234, '16:15:27': 236, '16:10:27': 249, '16:05:27': 252, '16:00:27': 221, '15:55:27': 201, '15:50:27': 198, '15:45:27': 169, '15:40:27': 164, '15:35:27': 167, '15:30:27': 172, '15:25:27': 177, '15:20:27': 165, '15:15:27': 154, '15:10:27': 151, '15:05:27': 150, '15:00:27': 146, '14:55:27': 148, '14:50:27': 156, '14:45:27': 159, '14:40:27': 162, '14:35:27': 158, '14:30:27': 154, '14:25:27': 150, '14:20:27': 149, '14:15:27': 154, '14:10:27': 162, '14:05:27': 157, '14:00:27': 157, '13:55:27': 138, '13:50:27': 124, '13:45:27': 119, '13:40:27': 118, '13:35:27': 118, '13:30:27': 118, '13:25:27': 117, '13:20:27': 122, '13:15:27': 123, '13:10:27': 123, '13:05:27': 118, '13:00:27': 118, '12:55:27': 113, '12:50:27': 109, '12:45:27': 110, '12:40:27': 104, '12:35:27': 102, '12:30:27': 96, '12:25:27': 95, '12:20:27': 90, '12:15:27': 87, '12:10:27': 87, '12:05:27': 84, '12:00:27': 80, '11:55:27': 76, '11:50:27': 74, '11:45:27': 72, '11:40:27': 74, '11:35:27': 75, '11:30:27': 77, '11:25:27': 80, '11:20:27': 82, '11:15:27': 83, '11:10:27': 80, '11:05:27': 76, '11:00:27': 73, '10:55:27': 67, '10:50:27': 65, '10:45:27': 68, '10:40:27': 69, '10:35:27': 72, '10:30:27': 73, '10:25:27': 75, '10:20:27': 78, '10:15:27': 80, '10:10:27': 77, '10:05:27': 77, '10:00:27': 75, '9:55:27': 82, '9:50:27': 89, '9:45:27': 93, '9:40:27': 92, '9:35:27': 89, '9:30:27': 86, '9:25:27': 88, '9:20:27': 92, '9:15:27': 93, '9:10:27': 95, '9:05:27': 101, '9:00:27': 107, '8:55:27': 109, '8:50:27': 111, '8:45:27': 113, '8:40:27': 115, '8:35:27': 127, '8:30:27': 123, '8:25:27': 124, '8:20:27': 111, '8:15:27': 89, '8:10:27': 80, '8:05:27': 76, '8:00:27': 74, '7:55:27': 77, '7:50:27': 82, '7:45:27': 88, '7:40:27': 90, '7:35:27': 91, '7:30:27': 99, '7:25:27': 101, '7:20:27': 100, '7:15:27': 100, '7:10:27': 104, '7:05:27': 114, '7:00:27': 120, '6:55:27': 121, '6:50:27': 127, '6:45:27': 130, '6:40:27': 129, '6:35:27': 139, '6:30:27': 142, '6:25:27': 142, '6:20:27': 143, '6:15:27': 141, '6:10:25': 137, '6:05:25': 135, '6:00:25': 138}\n"
     ]
    }
   ],
   "source": [
    "'''\n",
    "Create day and night partitions\n",
    "Copy data from date reading into these partitions\n",
    "'''\n",
    "autoDayDict = {}\n",
    "autoNightDict = {}\n",
    "manDayDict = {}\n",
    "manNightDict = {}\n",
    "dayLimit = datetime.strptime(\"06:00:00\", \"%H:%M:%S\")\n",
    "\n",
    "for date in autoDatesReadingListDict:\n",
    "    for time in autoDatesReadingListDict[date]:\n",
    "        curr = datetime.strptime(time, \"%H:%M:%S\")\n",
    "        if curr < dayLimit:\n",
    "            if date not in autoNightDict:\n",
    "                autoNightDict[date] = {}\n",
    "            autoNightDict[date][time] = autoDatesReadingListDict[date][time]\n",
    "        else:\n",
    "            if date not in autoDayDict:\n",
    "                autoDayDict[date] = {}\n",
    "            autoDayDict[date][time] = autoDatesReadingListDict[date][time]\n",
    "            \n",
    "for date in manDatesReadingListDict:\n",
    "    for time in manDatesReadingListDict[date]:\n",
    "        curr = datetime.strptime(time, \"%H:%M:%S\")\n",
    "        if curr < dayLimit:\n",
    "            if date not in manNightDict:\n",
    "                manNightDict[date] = {}\n",
    "            manNightDict[date][time] = manDatesReadingListDict[date][time]\n",
    "        else:\n",
    "            if date not in manDayDict:\n",
    "                manDayDict[date] = {}\n",
    "            manDayDict[date][time] = manDatesReadingListDict[date][time]\n",
    "            \n",
    "# print(autoDayDict['2/10/2018'])"
   ]
  },
  {
   "cell_type": "code",
   "execution_count": 17,
   "id": "28987bb0",
   "metadata": {},
   "outputs": [],
   "source": [
    "'''\n",
    "Calculate percentage for each metric for each date\n",
    "Calculate mean of all percentages over date\n",
    "Params:- Dict of date:{time:reading}\n",
    "Return:- List of means of each metric\n",
    "'''\n",
    "def getMeanPercentageMetrics(in_data):\n",
    "    hrgList = []\n",
    "    hrgCrtList = []\n",
    "    rngList = []\n",
    "    rsList = []\n",
    "    hog1List = []\n",
    "    hog2List = []\n",
    "\n",
    "    for date in in_data:\n",
    "        hrgSum = 0\n",
    "        hrgCrtSum = 0\n",
    "        rngSum = 0\n",
    "        rsSum = 0\n",
    "        hog1Sum = 0\n",
    "        hog2Sum = 0\n",
    "        for reading in in_data[date].values():\n",
    "            if reading > 180:\n",
    "                hrgSum += 1\n",
    "            if reading > 250:\n",
    "                hrgCrtSum += 1\n",
    "            if reading >= 70 and reading <= 180:\n",
    "                rngSum += 1\n",
    "            if reading >= 70 and reading <= 150:\n",
    "                rsSum += 1\n",
    "            if reading < 70:\n",
    "                hog1Sum += 1\n",
    "            if reading < 54:\n",
    "                hog2Sum += 1\n",
    "        # for getting %\n",
    "        hrgList.append(hrgSum/2.88)\n",
    "        hrgCrtList.append(hrgCrtSum/2.88)\n",
    "        rngList.append(rngSum/2.88)\n",
    "        rsList.append(rsSum/2.88)\n",
    "        hog1List.append(hog1Sum/2.88)\n",
    "        hog2List.append(hog2Sum/2.88)\n",
    "    \n",
    "    avgList = [0,0,0,0,0,0]\n",
    "\n",
    "    for hrg in hrgList:\n",
    "        avgList[0] += hrg\n",
    "    avgList[0] /= len(hrgList)\n",
    "\n",
    "    for hrgCrt in hrgCrtList:\n",
    "        avgList[1] += hrgCrt\n",
    "    avgList[1] /= len(hrgCrtList)\n",
    "\n",
    "    for rng in rngList:\n",
    "        avgList[2] += rng\n",
    "    avgList[2] /= len(rngList)\n",
    "\n",
    "    for rs in rsList:\n",
    "        avgList[3] += rs\n",
    "    avgList[3] /= len(rsList)\n",
    "\n",
    "    for hog1 in hog1List:\n",
    "        avgList[4] += hog1\n",
    "    avgList[4] /= len(hog1List)\n",
    "\n",
    "    for hog2 in hog2List:\n",
    "        avgList[5] += hog2\n",
    "    avgList[5] /= len(hog2List)\n",
    "    \n",
    "    return avgList"
   ]
  },
  {
   "cell_type": "code",
   "execution_count": 18,
   "id": "9655899e",
   "metadata": {},
   "outputs": [],
   "source": [
    "autoWholeAvgList = getMeanPercentageMetrics(autoDatesReadingListDict)\n",
    "autoDayAvgList = getMeanPercentageMetrics(autoDayDict)\n",
    "autoNightAvgList = getMeanPercentageMetrics(autoNightDict)\n",
    "manWholeAvgList = getMeanPercentageMetrics(manDatesReadingListDict)\n",
    "manDayAvgList = getMeanPercentageMetrics(manDayDict)\n",
    "manNightAvgList = getMeanPercentageMetrics(manNightDict)"
   ]
  },
  {
   "cell_type": "code",
   "execution_count": 19,
   "id": "d915bb06",
   "metadata": {},
   "outputs": [],
   "source": [
    "def convertToString(in_list):\n",
    "    res = ''\n",
    "    for elem in in_list:\n",
    "        res += \"{},\".format(str(elem))\n",
    "    return res[:-1]"
   ]
  },
  {
   "cell_type": "code",
   "execution_count": 20,
   "id": "44452e32",
   "metadata": {},
   "outputs": [],
   "source": [
    "'''\n",
    "Write to Results.csv\n",
    "'''\n",
    "with open('Results.csv', 'w') as f:\n",
    "    f.write(convertToString(manNightAvgList+manDayAvgList+manWholeAvgList))\n",
    "    f.write('\\n')\n",
    "    f.write(convertToString(autoNightAvgList+autoDayAvgList+autoWholeAvgList))"
   ]
  },
  {
   "cell_type": "code",
   "execution_count": null,
   "id": "3f24077e",
   "metadata": {},
   "outputs": [],
   "source": []
  }
 ],
 "metadata": {
  "kernelspec": {
   "display_name": "Python 3 (ipykernel)",
   "language": "python",
   "name": "python3"
  },
  "language_info": {
   "codemirror_mode": {
    "name": "ipython",
    "version": 3
   },
   "file_extension": ".py",
   "mimetype": "text/x-python",
   "name": "python",
   "nbconvert_exporter": "python",
   "pygments_lexer": "ipython3",
   "version": "3.8.0"
  }
 },
 "nbformat": 4,
 "nbformat_minor": 5
}
